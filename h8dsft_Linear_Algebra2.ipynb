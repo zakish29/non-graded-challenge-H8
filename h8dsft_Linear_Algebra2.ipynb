{
 "cells": [
  {
   "cell_type": "code",
   "execution_count": 1,
   "metadata": {},
   "outputs": [],
   "source": [
    "import numpy as np"
   ]
  },
  {
   "cell_type": "code",
   "execution_count": 7,
   "metadata": {},
   "outputs": [
    {
     "name": "stdout",
     "output_type": "stream",
     "text": [
      "[[ 391 1100  361]\n",
      " [ 119  264 2071]\n",
      " [ 969 1474 1862]]\n",
      " \n",
      "[1852 2454 4305]\n"
     ]
    }
   ],
   "source": [
    "x = np.array([[\n",
    "    [23,50],\n",
    "    [7,12],\n",
    "],[\n",
    "    [57,67],\n",
    "    [99,43]\n",
    "],[\n",
    "    [75,21],\n",
    "    [57,12]\n",
    "],[\n",
    "    [87,26],\n",
    "    [18,84]\n",
    "]])\n",
    "\n",
    "A = np.array([\n",
    "    [23,50,19],\n",
    "    [7,12,109],\n",
    "    [57,67,98]\n",
    "])\n",
    "B = np.array([17,22,19])\n",
    "\n",
    "print(A*B)\n",
    "print(' ')\n",
    "print(A@B)"
   ]
  },
  {
   "cell_type": "code",
   "execution_count": 15,
   "metadata": {},
   "outputs": [
    {
     "name": "stdout",
     "output_type": "stream",
     "text": [
      "Transpose dari a =  [[ 23   7  57]\n",
      " [ 50  12  67]\n",
      " [ 19 109  98]]\n",
      "\n",
      "Determinant dari a =  131344.0000000002\n",
      "\n",
      "Inverse dari a =  [[-0.0466485  -0.02761451  0.03975819]\n",
      " [ 0.04208034  0.00891552 -0.01807467]\n",
      " [-0.00163692  0.0099662  -0.00056341]]\n"
     ]
    }
   ],
   "source": [
    "a = np.array([\n",
    "    [23,50,19],\n",
    "    [7,12,109],\n",
    "    [57,67,98]              \n",
    "])\n",
    "\n",
    "\n",
    "print('Transpose dari a = ', a.transpose())\n",
    "print()\n",
    "print('Determinant dari a = ', np.linalg.det(a))\n",
    "print()\n",
    "print('Inverse dari a = ', np.linalg.inv(a))"
   ]
  }
 ],
 "metadata": {
  "kernelspec": {
   "display_name": "base",
   "language": "python",
   "name": "python3"
  },
  "language_info": {
   "codemirror_mode": {
    "name": "ipython",
    "version": 3
   },
   "file_extension": ".py",
   "mimetype": "text/x-python",
   "name": "python",
   "nbconvert_exporter": "python",
   "pygments_lexer": "ipython3",
   "version": "3.9.12"
  },
  "orig_nbformat": 4,
  "vscode": {
   "interpreter": {
    "hash": "a0002ca97fa5ee54dc2e4008fbe9eabec60bb4400642f4fca2bafe1dfe14f90e"
   }
  }
 },
 "nbformat": 4,
 "nbformat_minor": 2
}
