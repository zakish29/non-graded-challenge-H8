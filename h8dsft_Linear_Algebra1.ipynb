{
 "cells": [
  {
   "attachments": {},
   "cell_type": "markdown",
   "metadata": {},
   "source": [
    "### 1. Buatlah vektor di bawah ini dengan Python:\n",
    "\n",
    "17\n",
    "\n",
    "22\n",
    "\n",
    "19"
   ]
  },
  {
   "cell_type": "code",
   "execution_count": 29,
   "metadata": {},
   "outputs": [],
   "source": [
    "import numpy as np \n",
    "import pandas as pd \n",
    "import matplotlib.pyplot as plt"
   ]
  },
  {
   "cell_type": "code",
   "execution_count": 25,
   "metadata": {},
   "outputs": [
    {
     "data": {
      "text/plain": [
       "array([17, 22, 19])"
      ]
     },
     "execution_count": 25,
     "metadata": {},
     "output_type": "execute_result"
    }
   ],
   "source": [
    "x = np.array([17,22,19])\n",
    "x"
   ]
  },
  {
   "cell_type": "code",
   "execution_count": 26,
   "metadata": {},
   "outputs": [],
   "source": [
    "A = [17,22,19]\n",
    "B = [10,20,11]\n",
    "C = [5,12,9]\n",
    "\n",
    "a = np.array(A)\n",
    "b = np.array(B)\n",
    "c = np.array(C)\n",
    "\n",
    "# Cosine Similarity\n",
    "cos_theta = (a @ b) / (np.linalg.norm(a) * np.linalg.norm(b))"
   ]
  },
  {
   "cell_type": "code",
   "execution_count": 27,
   "metadata": {},
   "outputs": [
    {
     "name": "stdout",
     "output_type": "stream",
     "text": [
      "A + B =  [27 42 30]\n",
      "B - C =  [5 8 2]\n",
      "A dot C (dot product)=  520\n",
      "Perkalian A x B (element wise) =  [170 440 209]\n",
      "L1 - Manhattan Distance of A =  58.0\n",
      "L2 - Euclidean Distance of B =  33.67491648096547\n",
      "Sudut antara vektor A and B =  0.9759590023331435\n"
     ]
    }
   ],
   "source": [
    "print('A + B = ', a + b)\n",
    "print('B - C = ', b - c)\n",
    "print('A dot C (dot product)= ', a @ c)\n",
    "print('Perkalian A x B (element wise) = ', a * b)\n",
    "print('L1 - Manhattan Distance of A = ', np.linalg.norm(a,1))\n",
    "print('L2 - Euclidean Distance of B = ', np.linalg.norm(a,2))\n",
    "print('Sudut antara vektor A and B = ', cos_theta)\n",
    "\n"
   ]
  },
  {
   "cell_type": "code",
   "execution_count": 38,
   "metadata": {},
   "outputs": [
    {
     "data": {
      "image/png": "[encoded data removed]",
      "text/plain": [
       "<Figure size 640x480 with 1 Axes>"
      ]
     },
     "metadata": {},
     "output_type": "display_data"
    }
   ],
   "source": [
    "u = np.array([2,5])\n",
    "v = np.array([3,1])\n",
    "\n",
    "plt.arrow(0,0,u[0],u[1], color = 'r', head_width = 0.2)\n",
    "plt.arrow(0,0,v[0],v[1], color = 'b', head_width = 0.2)\n",
    "plt.axis([0,7,0,7])\n",
    "plt.grid()\n",
    "plt.show()"
   ]
  }
 ],
 "metadata": {
  "kernelspec": {
   "display_name": "base",
   "language": "python",
   "name": "python3"
  },
  "language_info": {
   "codemirror_mode": {
    "name": "ipython",
    "version": 3
   },
   "file_extension": ".py",
   "mimetype": "text/x-python",
   "name": "python",
   "nbconvert_exporter": "python",
   "pygments_lexer": "ipython3",
   "version": "3.9.12"
  },
  "orig_nbformat": 4,
  "vscode": {
   "interpreter": {
    "hash": "a0002ca97fa5ee54dc2e4008fbe9eabec60bb4400642f4fca2bafe1dfe14f90e"
   }
  }
 },
 "nbformat": 4,
 "nbformat_minor": 2
}
